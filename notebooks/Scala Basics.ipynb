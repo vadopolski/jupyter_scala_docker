{
 "cells": [
  {
   "cell_type": "markdown",
   "metadata": {},
   "source": [
    "## Val and Var"
   ]
  },
  {
   "cell_type": "code",
   "execution_count": 30,
   "metadata": {},
   "outputs": [
    {
     "data": {
      "text/plain": [
       "\u001b[36mthiIsVal\u001b[39m: \u001b[32mString\u001b[39m = \u001b[32m\"a\"\u001b[39m"
      ]
     },
     "execution_count": 30,
     "metadata": {},
     "output_type": "execute_result"
    }
   ],
   "source": [
    "val thiIsVal = \"a\""
   ]
  },
  {
   "cell_type": "code",
   "execution_count": 30,
   "metadata": {},
   "outputs": [
    {
     "name": "stderr",
     "output_type": "stream",
     "text": [
      "cmd30.sc:1: reassignment to val\n",
      "val res30 = thiIsVal = \"b\"\n",
      "                     ^Compilation Failed"
     ]
    },
    {
     "ename": "",
     "evalue": "",
     "output_type": "error",
     "traceback": [
      "Compilation Failed"
     ]
    }
   ],
   "source": [
    "thiIsVal = \"b\""
   ]
  },
  {
   "cell_type": "code",
   "execution_count": 31,
   "metadata": {},
   "outputs": [
    {
     "data": {
      "text/html": [
       "<div class=\"jp-RenderedText\">\n",
       "<pre><code><span style=\"color: rgb(0, 187, 187)\"><span class=\"ansi-cyan-fg\">thiIsVar</span></span>: <span style=\"color: rgb(0, 187, 0)\"><span class=\"ansi-green-fg\">String</span></span> = <style>@keyframes fadein { from { opacity: 0; } to { opacity: 1; } }</style><span style=\"animation: fadein 2s;\"><span style=\"color: rgb(0, 187, 0)\"><span class=\"ansi-green-fg\">&quot;b&quot;</span></span></span></code></pre>\n",
       "</div>"
      ],
      "text/plain": [
       "\u001b[36mthiIsVar\u001b[39m: \u001b[32mString\u001b[39m = \u001b[32m\"b\"\u001b[39m"
      ]
     },
     "metadata": {},
     "output_type": "display_data"
    }
   ],
   "source": [
    "var thiIsVar = \"a\""
   ]
  },
  {
   "cell_type": "code",
   "execution_count": 32,
   "metadata": {},
   "outputs": [
    {
     "data": {
      "text/plain": [
       "\u001b[36mres31_1\u001b[39m: \u001b[32mString\u001b[39m = \u001b[32m\"b\"\u001b[39m"
      ]
     },
     "execution_count": 32,
     "metadata": {},
     "output_type": "execute_result"
    }
   ],
   "source": [
    "thiIsVar = \"b\"\n",
    "thiIsVar"
   ]
  },
  {
   "cell_type": "markdown",
   "metadata": {},
   "source": [
    "## Functions"
   ]
  },
  {
   "cell_type": "code",
   "execution_count": 46,
   "metadata": {},
   "outputs": [
    {
     "data": {
      "text/plain": [
       "defined \u001b[32mfunction\u001b[39m \u001b[36msum\u001b[39m"
      ]
     },
     "execution_count": 46,
     "metadata": {},
     "output_type": "execute_result"
    }
   ],
   "source": [
    "def sum(a: Int, b: Int): Int = a + b"
   ]
  },
  {
   "cell_type": "code",
   "execution_count": 39,
   "metadata": {},
   "outputs": [
    {
     "data": {
      "text/plain": [
       "\u001b[36mres38\u001b[39m: \u001b[32mInt\u001b[39m = \u001b[32m20\u001b[39m"
      ]
     },
     "execution_count": 39,
     "metadata": {},
     "output_type": "execute_result"
    }
   ],
   "source": [
    "sum(3, 4)"
   ]
  },
  {
   "cell_type": "code",
   "execution_count": 40,
   "metadata": {},
   "outputs": [
    {
     "data": {
      "text/plain": [
       "\u001b[36mres39\u001b[39m: \u001b[32mList\u001b[39m[\u001b[32mInt\u001b[39m] = \u001b[33mList\u001b[39m(\u001b[32m2\u001b[39m, \u001b[32m3\u001b[39m, \u001b[32m4\u001b[39m)"
      ]
     },
     "execution_count": 40,
     "metadata": {},
     "output_type": "execute_result"
    }
   ],
   "source": [
    "List(1, 2, 3).map( (x: Int) => { x + 1 } )"
   ]
  },
  {
   "cell_type": "code",
   "execution_count": 42,
   "metadata": {},
   "outputs": [
    {
     "data": {
      "text/plain": [
       "\u001b[36mres41\u001b[39m: \u001b[32mList\u001b[39m[\u001b[32mInt\u001b[39m] = \u001b[33mList\u001b[39m(\u001b[32m2\u001b[39m, \u001b[32m3\u001b[39m, \u001b[32m4\u001b[39m)"
      ]
     },
     "execution_count": 42,
     "metadata": {},
     "output_type": "execute_result"
    }
   ],
   "source": [
    "List(1, 2, 3).map( x => x + 1 )"
   ]
  },
  {
   "cell_type": "code",
   "execution_count": 44,
   "metadata": {},
   "outputs": [
    {
     "data": {
      "text/plain": [
       "\u001b[36mres43\u001b[39m: \u001b[32mList\u001b[39m[\u001b[32mInt\u001b[39m] = \u001b[33mList\u001b[39m(\u001b[32m2\u001b[39m, \u001b[32m3\u001b[39m, \u001b[32m4\u001b[39m)"
      ]
     },
     "execution_count": 44,
     "metadata": {},
     "output_type": "execute_result"
    }
   ],
   "source": [
    "List(1, 2, 3).map( _ + 1 )"
   ]
  },
  {
   "cell_type": "code",
   "execution_count": 51,
   "metadata": {},
   "outputs": [
    {
     "data": {
      "text/plain": [
       "\u001b[36mc\u001b[39m: \u001b[32mInt\u001b[39m = \u001b[32m53\u001b[39m"
      ]
     },
     "execution_count": 51,
     "metadata": {},
     "output_type": "execute_result"
    }
   ],
   "source": [
    "val c = { \n",
    "  val a = 11 \n",
    "  a + 42\n",
    "}"
   ]
  },
  {
   "cell_type": "markdown",
   "metadata": {},
   "source": [
    "## def, val, lazy val"
   ]
  },
  {
   "cell_type": "code",
   "execution_count": 3,
   "metadata": {},
   "outputs": [
    {
     "name": "stdout",
     "output_type": "stream",
     "text": [
      ">> Init 'val'!\n",
      ">> t created\n",
      ">> Init 'def'!\n",
      "1743838234\n",
      ">> Init 'def'!\n",
      "1245016075\n",
      ">> Init 'def'!\n",
      "509928008\n",
      "1520582761\n",
      "1520582761\n",
      "1520582761\n",
      ">> Init 'lazy val'!\n",
      "-1913402728\n",
      "-1913402728\n",
      "-1913402728\n"
     ]
    },
    {
     "data": {
      "text/plain": [
       "\u001b[32mimport \u001b[39m\u001b[36mscala.util.Random\n",
       "\n",
       "\u001b[39m\n",
       "defined \u001b[32mclass\u001b[39m \u001b[36mTestClass\u001b[39m\n",
       "defined \u001b[32mfunction\u001b[39m \u001b[36mrepeat\u001b[39m\n",
       "\u001b[36mt\u001b[39m: \u001b[32mTestClass\u001b[39m = ammonite.$sess.cmd2$Helper$TestClass@7ce510eb"
      ]
     },
     "execution_count": 3,
     "metadata": {},
     "output_type": "execute_result"
    }
   ],
   "source": [
    "import scala.util.Random\n",
    "\n",
    "class TestClass {\n",
    "  \n",
    "  val rg = new Random\n",
    "  \n",
    "  def callWrapper(objName: String): Int = {\n",
    "    println(s\">> Init '$objName'!\")\n",
    "    rg.nextInt()\n",
    "  }\n",
    "  \n",
    "  def Def = callWrapper(\"def\")\n",
    "  \n",
    "  val Val = callWrapper(\"val\")\n",
    "  \n",
    "  lazy val LazyVal = callWrapper(\"lazy val\")\n",
    "  \n",
    "}\n",
    "\n",
    "def repeat(obj: => Int) = {\n",
    "  (1 to 3).foreach(_ => println(obj))\n",
    "}\n",
    "\n",
    "val t = new TestClass()\n",
    "println(\">> t created\")\n",
    "repeat(t.Def)\n",
    "repeat(t.Val)\n",
    "repeat(t.LazyVal)"
   ]
  },
  {
   "cell_type": "markdown",
   "metadata": {},
   "source": [
    "## Control expressions"
   ]
  },
  {
   "cell_type": "code",
   "execution_count": 61,
   "metadata": {},
   "outputs": [
    {
     "name": "stdout",
     "output_type": "stream",
     "text": [
      "This is if statement\n"
     ]
    },
    {
     "data": {
      "text/plain": [
       "\u001b[36mx\u001b[39m: \u001b[32mInt\u001b[39m = \u001b[32m1\u001b[39m"
      ]
     },
     "execution_count": 61,
     "metadata": {},
     "output_type": "execute_result"
    }
   ],
   "source": [
    "val x = 1\n",
    "if ( x < 20 ) {\n",
    "   println(\"This is if statement\")\n",
    "}"
   ]
  },
  {
   "cell_type": "code",
   "execution_count": 62,
   "metadata": {},
   "outputs": [
    {
     "data": {
      "text/plain": [
       "\u001b[36mhowMuch\u001b[39m: \u001b[32mString\u001b[39m = \u001b[32m\"some\"\u001b[39m"
      ]
     },
     "execution_count": 62,
     "metadata": {},
     "output_type": "execute_result"
    }
   ],
   "source": [
    "val howMuch = if (x < 20) { \n",
    "    \"some\"\n",
    "} else {\n",
    "    \"many\"\n",
    "}"
   ]
  },
  {
   "cell_type": "code",
   "execution_count": 59,
   "metadata": {},
   "outputs": [
    {
     "data": {
      "text/plain": [
       "\u001b[36mhowMuch\u001b[39m: \u001b[32mString\u001b[39m = \u001b[32m\"some\"\u001b[39m"
      ]
     },
     "execution_count": 59,
     "metadata": {},
     "output_type": "execute_result"
    }
   ],
   "source": [
    "val howMuch = if (x < 20) \"some\" else \"many\""
   ]
  },
  {
   "cell_type": "code",
   "execution_count": 64,
   "metadata": {},
   "outputs": [
    {
     "name": "stdout",
     "output_type": "stream",
     "text": [
      "3\n",
      "4\n",
      "5\n"
     ]
    },
    {
     "data": {
      "text/plain": [
       "\u001b[36mrange\u001b[39m: \u001b[32mRange\u001b[39m.\u001b[32mInclusive\u001b[39m = \u001b[33mRange.Inclusive\u001b[39m(\u001b[32m1\u001b[39m, \u001b[32m2\u001b[39m, \u001b[32m3\u001b[39m)"
      ]
     },
     "execution_count": 64,
     "metadata": {},
     "output_type": "execute_result"
    }
   ],
   "source": [
    "val range = 1 to 3\n",
    "for (x <- range) {\n",
    "    println(x + 2)\n",
    "}"
   ]
  },
  {
   "cell_type": "markdown",
   "metadata": {},
   "source": [
    "## Pattern Matching"
   ]
  },
  {
   "cell_type": "code",
   "execution_count": 114,
   "metadata": {},
   "outputs": [
    {
     "data": {
      "text/plain": [
       "\u001b[36mx\u001b[39m: \u001b[32mAny\u001b[39m = \u001b[32m10\u001b[39m\n",
       "\u001b[36mres113_1\u001b[39m: \u001b[32mAny\u001b[39m = \u001b[32m\"scala.Int\"\u001b[39m"
      ]
     },
     "execution_count": 114,
     "metadata": {},
     "output_type": "execute_result"
    }
   ],
   "source": [
    "val x: Any = 10\n",
    "\n",
    "x match {\n",
    "   case 1 => \"one\"\n",
    "   case \"two\" => 2\n",
    "   case y: Int => \"scala.Int\"\n",
    "   case _ => \"many\"\n",
    "}"
   ]
  },
  {
   "cell_type": "markdown",
   "metadata": {},
   "source": [
    "## Collections"
   ]
  },
  {
   "cell_type": "code",
   "execution_count": 74,
   "metadata": {},
   "outputs": [
    {
     "data": {
      "text/plain": [
       "\u001b[36mfruit\u001b[39m: \u001b[32mList\u001b[39m[\u001b[32mString\u001b[39m] = \u001b[33mList\u001b[39m(\u001b[32m\"apples\"\u001b[39m, \u001b[32m\"oranges\"\u001b[39m, \u001b[32m\"pears\"\u001b[39m)\n",
       "\u001b[36mres73_1\u001b[39m: \u001b[32mList\u001b[39m[\u001b[32mString\u001b[39m] = \u001b[33mList\u001b[39m(\n",
       "  \u001b[32m\"This is apples\"\u001b[39m,\n",
       "  \u001b[32m\"This is oranges\"\u001b[39m,\n",
       "  \u001b[32m\"This is pears\"\u001b[39m\n",
       ")\n",
       "\u001b[36mres73_2\u001b[39m: \u001b[32mBoolean\u001b[39m = true"
      ]
     },
     "execution_count": 74,
     "metadata": {},
     "output_type": "execute_result"
    }
   ],
   "source": [
    "val fruit: List[String] = List(\"apples\", \"oranges\", \"pears\")\n",
    "\n",
    "fruit.map(x => s\"This is $x\")\n",
    "fruit.contains(\"apples\")"
   ]
  },
  {
   "cell_type": "code",
   "execution_count": 82,
   "metadata": {},
   "outputs": [
    {
     "data": {
      "text/plain": [
       "\u001b[36mcolors\u001b[39m: \u001b[32mMap\u001b[39m[\u001b[32mString\u001b[39m, \u001b[32mString\u001b[39m] = \u001b[33mMap\u001b[39m(\u001b[32m\"red\"\u001b[39m -> \u001b[32m\"#FF0000\"\u001b[39m, \u001b[32m\"azure\"\u001b[39m -> \u001b[32m\"#F0FFFF\"\u001b[39m)\n",
       "\u001b[36mres81_1\u001b[39m: \u001b[32mString\u001b[39m = \u001b[32m\"#FF0000\"\u001b[39m\n",
       "\u001b[36mres81_2\u001b[39m: \u001b[32mIterable\u001b[39m[\u001b[32mString\u001b[39m] = \u001b[33mSet\u001b[39m(\u001b[32m\"red\"\u001b[39m, \u001b[32m\"azure\"\u001b[39m)"
      ]
     },
     "execution_count": 82,
     "metadata": {},
     "output_type": "execute_result"
    }
   ],
   "source": [
    "val colors = Map(\"red\" -> \"#FF0000\", \"azure\" -> \"#F0FFFF\")\n",
    "\n",
    "colors(\"red\")\n",
    "colors.keys\n",
    "colors.getOrElse(\"purple\", \"#000000\")"
   ]
  },
  {
   "cell_type": "markdown",
   "metadata": {},
   "source": [
    "## Tuple"
   ]
  },
  {
   "cell_type": "code",
   "execution_count": 95,
   "metadata": {},
   "outputs": [
    {
     "data": {
      "text/plain": [
       "\u001b[36ms\u001b[39m: (\u001b[32mInt\u001b[39m, \u001b[32mString\u001b[39m, \u001b[32mDouble\u001b[39m) = (\u001b[32m1\u001b[39m, \u001b[32m\"hello\"\u001b[39m, \u001b[32m3.0\u001b[39m)\n",
       "\u001b[36mt\u001b[39m: (\u001b[32mInt\u001b[39m, \u001b[32mInt\u001b[39m, \u001b[32mInt\u001b[39m, \u001b[32mInt\u001b[39m) = (\u001b[32m4\u001b[39m, \u001b[32m3\u001b[39m, \u001b[32m2\u001b[39m, \u001b[32m1\u001b[39m)\n",
       "\u001b[36msum\u001b[39m: \u001b[32mInt\u001b[39m = \u001b[32m10\u001b[39m"
      ]
     },
     "execution_count": 95,
     "metadata": {},
     "output_type": "execute_result"
    }
   ],
   "source": [
    "val s = (1, \"hello\", 3.0)\n",
    "val t = (4, 3, 2, 1)\n",
    "val sum = t._1 + t._2 + t._3 + t._4"
   ]
  },
  {
   "cell_type": "code",
   "execution_count": 97,
   "metadata": {},
   "outputs": [
    {
     "data": {
      "text/plain": [
       "\u001b[36mmap\u001b[39m: \u001b[32mMap\u001b[39m[\u001b[32mString\u001b[39m, \u001b[32mInt\u001b[39m] = \u001b[33mMap\u001b[39m(\u001b[32m\"a\"\u001b[39m -> \u001b[32m1\u001b[39m, \u001b[32m\"b\"\u001b[39m -> \u001b[32m2\u001b[39m)\n",
       "\u001b[36mlist\u001b[39m: \u001b[32mList\u001b[39m[\u001b[32mInt\u001b[39m] = \u001b[33mList\u001b[39m(\u001b[32m1\u001b[39m, \u001b[32m2\u001b[39m, \u001b[32m3\u001b[39m)"
      ]
     },
     "execution_count": 97,
     "metadata": {},
     "output_type": "execute_result"
    }
   ],
   "source": [
    "val map = List((\"a\", 1), (\"b\", 2)).toMap\n",
    "val list = Array(1, 2, 3).toList"
   ]
  },
  {
   "cell_type": "markdown",
   "metadata": {},
   "source": [
    "## Options"
   ]
  },
  {
   "cell_type": "code",
   "execution_count": 101,
   "metadata": {},
   "outputs": [
    {
     "name": "stderr",
     "output_type": "stream",
     "text": [
      "cmd101.sc:2: an expression of type Null is ineligible for implicit conversion\n",
      "val b$value = new _root_.almond.api.internal.Modifiable[Int](null\n",
      "                                                             ^Compilation Failed"
     ]
    },
    {
     "ename": "",
     "evalue": "",
     "output_type": "error",
     "traceback": [
      "Compilation Failed"
     ]
    }
   ],
   "source": [
    "val a: Int = 5\n",
    "var b: Int = null\n",
    "println(\"a: \" + a)\n",
    "println(\"b: \" + b)\n",
    "val c: Int = b"
   ]
  },
  {
   "cell_type": "code",
   "execution_count": 101,
   "metadata": {},
   "outputs": [
    {
     "name": "stdout",
     "output_type": "stream",
     "text": [
      "a.getOrElse(0): 5\n",
      "b.getOrElse(10): 10\n"
     ]
    },
    {
     "data": {
      "text/plain": [
       "\u001b[36ma\u001b[39m: \u001b[32mOption\u001b[39m[\u001b[32mInt\u001b[39m] = \u001b[33mSome\u001b[39m(\u001b[32m5\u001b[39m)\n",
       "\u001b[36mb\u001b[39m: \u001b[32mOption\u001b[39m[\u001b[32mInt\u001b[39m] = \u001b[32mNone\u001b[39m\n",
       "\u001b[36mc\u001b[39m: \u001b[32mInt\u001b[39m = \u001b[32m10\u001b[39m"
      ]
     },
     "execution_count": 101,
     "metadata": {},
     "output_type": "execute_result"
    }
   ],
   "source": [
    "val a: Option[Int] = Some(5)\n",
    "val b: Option[Int] = None\n",
    "println(\"a.getOrElse(0): \" + a.getOrElse(0) )\n",
    "println(\"b.getOrElse(10): \" + b.getOrElse(10) )\n",
    "val c: Int = b.getOrElse(10)"
   ]
  },
  {
   "cell_type": "code",
   "execution_count": 104,
   "metadata": {},
   "outputs": [
    {
     "data": {
      "text/plain": [
       "\u001b[36ma\u001b[39m: \u001b[32mOption\u001b[39m[\u001b[32mInt\u001b[39m] = \u001b[33mSome\u001b[39m(\u001b[32m5\u001b[39m)\n",
       "\u001b[36mres103_1\u001b[39m: \u001b[32mOption\u001b[39m[\u001b[32mInt\u001b[39m] = \u001b[33mSome\u001b[39m(\u001b[32m6\u001b[39m)"
      ]
     },
     "execution_count": 104,
     "metadata": {},
     "output_type": "execute_result"
    }
   ],
   "source": [
    "val a: Option[Int] = Some(5)\n",
    "a.map(_ + 1)"
   ]
  },
  {
   "cell_type": "code",
   "execution_count": null,
   "metadata": {},
   "outputs": [],
   "source": [
    "val iHopeItsNumbers = List(\"1\", \"2\", \"banana\", \"4\")\n",
    "\n",
    "iHopeItsNumbers.map(x => toInt(x))\n",
    "\n",
    "iHopeItsNumbers.flatMap(x => toInt(x))\n",
    "\n",
    "iHopeItsNumbers.flatMap(toInt).sum"
   ]
  },
  {
   "cell_type": "markdown",
   "metadata": {},
   "source": [
    "## Collections operations"
   ]
  },
  {
   "cell_type": "code",
   "execution_count": 6,
   "metadata": {},
   "outputs": [
    {
     "name": "stdout",
     "output_type": "stream",
     "text": [
      "123"
     ]
    },
    {
     "data": {
      "text/plain": [
       "\u001b[36mres5_0\u001b[39m: \u001b[32mList\u001b[39m[\u001b[32mInt\u001b[39m] = \u001b[33mList\u001b[39m(\u001b[32m2\u001b[39m, \u001b[32m3\u001b[39m, \u001b[32m4\u001b[39m)\n",
       "\u001b[36mres5_2\u001b[39m: \u001b[32mList\u001b[39m[\u001b[32mInt\u001b[39m] = \u001b[33mList\u001b[39m(\u001b[32m1\u001b[39m, \u001b[32m2\u001b[39m, \u001b[32m3\u001b[39m)\n",
       "\u001b[36mres5_3\u001b[39m: \u001b[32mList\u001b[39m[\u001b[32mInt\u001b[39m] = \u001b[33mList\u001b[39m(\u001b[32m1\u001b[39m, \u001b[32m1\u001b[39m, \u001b[32m1\u001b[39m, \u001b[32m2\u001b[39m, \u001b[32m2\u001b[39m, \u001b[32m2\u001b[39m, \u001b[32m3\u001b[39m, \u001b[32m3\u001b[39m, \u001b[32m3\u001b[39m)\n",
       "\u001b[36mres5_4\u001b[39m: \u001b[32mList\u001b[39m[\u001b[32mInt\u001b[39m] = \u001b[33mList\u001b[39m(\u001b[32m1\u001b[39m, \u001b[32m1\u001b[39m, \u001b[32m1\u001b[39m, \u001b[32m2\u001b[39m, \u001b[32m2\u001b[39m, \u001b[32m2\u001b[39m, \u001b[32m3\u001b[39m, \u001b[32m3\u001b[39m, \u001b[32m3\u001b[39m)"
      ]
     },
     "execution_count": 6,
     "metadata": {},
     "output_type": "execute_result"
    }
   ],
   "source": [
    "List(1, 2, 3).map(x => x + 1)                        // 1 -> 1\n",
    "\n",
    "List(1, 2, 3).foreach(x => print(x))                 // 1 -> Unit\n",
    "\n",
    "List(List(1), List(2, 3), List()).flatten\n",
    "\n",
    "List(1, 2, 3).flatMap(x => List(x, x, x))            // 1 -> 0..N\n",
    "\n",
    "List(1, 2, 3).map(x => List(x, x, x)).flatten"
   ]
  },
  {
   "cell_type": "code",
   "execution_count": 4,
   "metadata": {},
   "outputs": [
    {
     "data": {
      "text/plain": [
       "\u001b[36mfruits\u001b[39m: \u001b[32mList\u001b[39m[\u001b[32mString\u001b[39m] = \u001b[33mList\u001b[39m(\u001b[32m\"apple\"\u001b[39m, \u001b[32m\"banana\"\u001b[39m, \u001b[32m\"banana\"\u001b[39m, \u001b[32m\"pear\"\u001b[39m, \u001b[32m\"orange\"\u001b[39m)\n",
       "\u001b[36mres3_1\u001b[39m: \u001b[32mList\u001b[39m[\u001b[32mString\u001b[39m] = \u001b[33mList\u001b[39m(\u001b[32m\"apple\"\u001b[39m, \u001b[32m\"banana\"\u001b[39m)\n",
       "\u001b[36mres3_2\u001b[39m: \u001b[32mList\u001b[39m[\u001b[32mString\u001b[39m] = \u001b[33mList\u001b[39m(\u001b[32m\"apple\"\u001b[39m, \u001b[32m\"orange\"\u001b[39m)\n",
       "\u001b[36mres3_3\u001b[39m: \u001b[32mBoolean\u001b[39m = true\n",
       "\u001b[36mres3_4\u001b[39m: \u001b[32mList\u001b[39m[\u001b[32mString\u001b[39m] = \u001b[33mList\u001b[39m(\u001b[32m\"apple\"\u001b[39m, \u001b[32m\"banana\"\u001b[39m, \u001b[32m\"pear\"\u001b[39m, \u001b[32m\"orange\"\u001b[39m)"
      ]
     },
     "execution_count": 4,
     "metadata": {},
     "output_type": "execute_result"
    }
   ],
   "source": [
    "val fruits = List(\"apple\", \"banana\", \"banana\", \"pear\", \"orange\")\n",
    "\n",
    "fruits.take(2)\n",
    "\n",
    "fruits.filter(_.endsWith(\"e\"))\n",
    "\n",
    "fruits.exists(_.startsWith(\"b\"))\n",
    "\n",
    "fruits.distinct"
   ]
  },
  {
   "cell_type": "code",
   "execution_count": 8,
   "metadata": {},
   "outputs": [
    {
     "data": {
      "text/plain": [
       "\u001b[36mres7_0\u001b[39m: \u001b[32mMap\u001b[39m[\u001b[32mString\u001b[39m, \u001b[32mInt\u001b[39m] = \u001b[33mMap\u001b[39m(\u001b[32m\"orange\"\u001b[39m -> \u001b[32m1\u001b[39m, \u001b[32m\"apple\"\u001b[39m -> \u001b[32m3\u001b[39m)\n",
       "\u001b[36mres7_1\u001b[39m: \u001b[32mInt\u001b[39m = \u001b[32m9\u001b[39m\n",
       "\u001b[36maccumulator\u001b[39m: (\u001b[32mInt\u001b[39m, \u001b[32mInt\u001b[39m) = (\u001b[32m25\u001b[39m, \u001b[32m5\u001b[39m)\n",
       "\u001b[36mres7_3\u001b[39m: \u001b[32mInt\u001b[39m = \u001b[32m5\u001b[39m\n",
       "\u001b[36mres7_4\u001b[39m: \u001b[32mInt\u001b[39m = \u001b[32m1\u001b[39m"
      ]
     },
     "execution_count": 8,
     "metadata": {},
     "output_type": "execute_result"
    }
   ],
   "source": [
    "List((\"apple\", 1), (\"apple\", 2), (\"apple\", 3), (\"orange\", 2))         \n",
    "       .groupBy(_._1).mapValues(_.size)\n",
    "\n",
    "List(1, 7, 2, 9, 3).reduce { (r1, r2) => if (r1 > r2) r1 else r2 }\n",
    "\n",
    "val accumulator = List(1, 7, 5, 9, 3)\n",
    "       .foldLeft (0, 0) { (acc, x) => (acc._1 + x, acc._2 + 1) }\n",
    "\n",
    "accumulator._1 / accumulator._2"
   ]
  },
  {
   "cell_type": "markdown",
   "metadata": {},
   "source": [
    "## Classes"
   ]
  },
  {
   "cell_type": "code",
   "execution_count": 105,
   "metadata": {},
   "outputs": [
    {
     "data": {
      "text/plain": [
       "defined \u001b[32mclass\u001b[39m \u001b[36mPoint\u001b[39m\n",
       "\u001b[36mpt\u001b[39m: \u001b[32mPoint\u001b[39m = ammonite.$sess.cmd104$Helper$Point@46a08d71"
      ]
     },
     "execution_count": 105,
     "metadata": {},
     "output_type": "execute_result"
    }
   ],
   "source": [
    "class Point(xc: Int, yc: Int) {\n",
    "   var x: Int = xc\n",
    "   var y: Int = yc\n",
    "\n",
    "   def move(dx: Int, dy: Int) = {\n",
    "      x = x + dx\n",
    "      y = y + dy\n",
    "      println (\"Point x location : \" + x)\n",
    "      println (\"Point y location : \" + y)\n",
    "   }\n",
    "}\n",
    "\n",
    "val pt = new Point(1, 2)"
   ]
  },
  {
   "cell_type": "code",
   "execution_count": 106,
   "metadata": {},
   "outputs": [
    {
     "name": "stdout",
     "output_type": "stream",
     "text": [
      "Point x location : 11\n",
      "Point y location : 12\n"
     ]
    }
   ],
   "source": [
    "pt.move(10, 10)"
   ]
  },
  {
   "cell_type": "code",
   "execution_count": 107,
   "metadata": {},
   "outputs": [
    {
     "data": {
      "text/plain": [
       "defined \u001b[32mclass\u001b[39m \u001b[36mPerson\u001b[39m\n",
       "\u001b[36mgarry\u001b[39m: \u001b[32mPerson\u001b[39m = \u001b[33mPerson\u001b[39m(\u001b[32m\"Garry\"\u001b[39m, \u001b[32m22\u001b[39m)\n",
       "\u001b[36moldGarry\u001b[39m: \u001b[32mPerson\u001b[39m = \u001b[33mPerson\u001b[39m(\u001b[32m\"Garry\"\u001b[39m, \u001b[32m60\u001b[39m)"
      ]
     },
     "execution_count": 107,
     "metadata": {},
     "output_type": "execute_result"
    }
   ],
   "source": [
    "case class Person(name: String, age: Int)\n",
    "\n",
    "val garry = Person(\"Garry\", 22)\n",
    "val oldGarry = garry.copy(age=60)"
   ]
  },
  {
   "cell_type": "code",
   "execution_count": null,
   "metadata": {},
   "outputs": [],
   "source": [
    "val alice = Person(\"Alice\", 25)\n",
    "val bob = Person(\"Bob\", 32)\n",
    "val charlie = Person(\"Charlie\", 32)\n",
    "\n",
    "for (person <- List(alice, bob, charlie)) {\n",
    "  person match {\n",
    "    case Person(\"Alice\", _) => println(\"Hi Alice!\")\n",
    "    case Person(\"Bob\", 32) => println(\"Hi Bob!\")\n",
    "    case Person(name, age) => println(\n",
    "      \"Age: \" + age + \" year, name: \" + name + \"?\")\n",
    "  }\n",
    "}"
   ]
  },
  {
   "cell_type": "code",
   "execution_count": 110,
   "metadata": {},
   "outputs": [
    {
     "data": {
      "text/plain": [
       "defined \u001b[32mobject\u001b[39m \u001b[36mColorConfig\u001b[39m\n",
       "\u001b[36mres109_1\u001b[39m: \u001b[32mList\u001b[39m[\u001b[32mString\u001b[39m] = \u001b[33mList\u001b[39m(\u001b[32m\"red\"\u001b[39m, \u001b[32m\"green\"\u001b[39m, \u001b[32m\"blue\"\u001b[39m)"
      ]
     },
     "execution_count": 110,
     "metadata": {},
     "output_type": "execute_result"
    }
   ],
   "source": [
    "object ColorConfig {\n",
    "    val options = List(\"red\", \"green\", \"blue\")\n",
    "}\n",
    "\n",
    "ColorConfig.options"
   ]
  },
  {
   "cell_type": "markdown",
   "metadata": {},
   "source": [
    "## Traits"
   ]
  },
  {
   "cell_type": "code",
   "execution_count": 1,
   "metadata": {},
   "outputs": [
    {
     "name": "stdout",
     "output_type": "stream",
     "text": [
      "red circle\n"
     ]
    },
    {
     "data": {
      "text/plain": [
       "defined \u001b[32mtrait\u001b[39m \u001b[36mShape\u001b[39m\n",
       "defined \u001b[32mtrait\u001b[39m \u001b[36mCircle\u001b[39m\n",
       "defined \u001b[32mtrait\u001b[39m \u001b[36mColor\u001b[39m\n",
       "defined \u001b[32mtrait\u001b[39m \u001b[36mRed\u001b[39m\n",
       "defined \u001b[32mtrait\u001b[39m \u001b[36mColoredShape\u001b[39m\n",
       "defined \u001b[32mobject\u001b[39m \u001b[36mRedCircle\u001b[39m"
      ]
     },
     "execution_count": 1,
     "metadata": {},
     "output_type": "execute_result"
    }
   ],
   "source": [
    "sealed trait Shape {\n",
    "  def fullName: String\n",
    "  def shapeName: String\n",
    "  override def toString = fullName\n",
    "}\n",
    "\n",
    "trait Circle extends Shape {\n",
    "  val shapeName = \"circle\"\n",
    "}\n",
    "\n",
    "sealed trait Color {\n",
    "  def colorName: String\n",
    "}\n",
    "\n",
    "trait Red extends Color {\n",
    "  val colorName = \"red\"\n",
    "}\n",
    "\n",
    "trait ColoredShape extends Shape with Color {\n",
    "  def fullName = s\"$colorName $shapeName\"\n",
    "}\n",
    "\n",
    "object RedCircle extends ColoredShape with Circle with Red\n",
    "\n",
    "println(RedCircle)"
   ]
  },
  {
   "cell_type": "markdown",
   "metadata": {},
   "source": [
    "## Generic classes"
   ]
  },
  {
   "cell_type": "code",
   "execution_count": 11,
   "metadata": {},
   "outputs": [
    {
     "name": "stdout",
     "output_type": "stream",
     "text": [
      "2\n",
      "1\n",
      "ammonite.$sess.cmd10$Helper$Banana@a371a00\n",
      "ammonite.$sess.cmd10$Helper$Apple@1263dae3\n"
     ]
    },
    {
     "data": {
      "text/plain": [
       "defined \u001b[32mclass\u001b[39m \u001b[36mStack\u001b[39m\n",
       "\u001b[36mstack\u001b[39m: \u001b[32mStack\u001b[39m[\u001b[32mInt\u001b[39m] = ammonite.$sess.cmd10$Helper$Stack@70aa2cfd\n",
       "defined \u001b[32mclass\u001b[39m \u001b[36mFruit\u001b[39m\n",
       "defined \u001b[32mclass\u001b[39m \u001b[36mApple\u001b[39m\n",
       "defined \u001b[32mclass\u001b[39m \u001b[36mBanana\u001b[39m\n",
       "\u001b[36mfruitStack\u001b[39m: \u001b[32mStack\u001b[39m[\u001b[32mFruit\u001b[39m] = ammonite.$sess.cmd10$Helper$Stack@18419cca\n",
       "\u001b[36mapple\u001b[39m: \u001b[32mApple\u001b[39m = ammonite.$sess.cmd10$Helper$Apple@1263dae3\n",
       "\u001b[36mbanana\u001b[39m: \u001b[32mBanana\u001b[39m = ammonite.$sess.cmd10$Helper$Banana@a371a00"
      ]
     },
     "execution_count": 11,
     "metadata": {},
     "output_type": "execute_result"
    }
   ],
   "source": [
    "class Stack[A] {\n",
    "  private var elements: List[A] = Nil\n",
    "  def push(x: A) = { elements = x :: elements }\n",
    "  def peek: A = elements.head\n",
    "  def pop(): A = {\n",
    "    val currentTop = peek\n",
    "    elements = elements.tail\n",
    "    currentTop\n",
    "  }\n",
    "}\n",
    "\n",
    "val stack = new Stack[Int]\n",
    "stack.push(1)\n",
    "stack.push(2)\n",
    "println(stack.pop)  // prints 2\n",
    "println(stack.pop)  // prints 1\n",
    "\n",
    "class Fruit\n",
    "class Apple extends Fruit\n",
    "class Banana extends Fruit\n",
    "\n",
    "val fruitStack = new Stack[Fruit]\n",
    "val apple = new Apple\n",
    "val banana = new Banana\n",
    "\n",
    "fruitStack.push(apple)\n",
    "fruitStack.push(banana)\n",
    "println(fruitStack.pop)\n",
    "println(fruitStack.pop)"
   ]
  },
  {
   "cell_type": "markdown",
   "metadata": {},
   "source": [
    "## Misc"
   ]
  },
  {
   "cell_type": "code",
   "execution_count": 90,
   "metadata": {},
   "outputs": [
    {
     "data": {
      "text/plain": [
       "\u001b[36mres89_0\u001b[39m: \u001b[32mLong\u001b[39m = \u001b[32m2L\u001b[39m\n",
       "\u001b[36mres89_1\u001b[39m: \u001b[32mLong\u001b[39m = \u001b[32m2L\u001b[39m"
      ]
     },
     "execution_count": 90,
     "metadata": {},
     "output_type": "execute_result"
    }
   ],
   "source": [
    "2.asInstanceOf[Long] // bad\n",
    "2.toLong // good"
   ]
  },
  {
   "cell_type": "code",
   "execution_count": 118,
   "metadata": {},
   "outputs": [
    {
     "data": {
      "text/plain": [
       "defined \u001b[32mfunction\u001b[39m \u001b[36mgetIncrement\u001b[39m"
      ]
     },
     "execution_count": 118,
     "metadata": {},
     "output_type": "execute_result"
    }
   ],
   "source": [
    "def getIncrement: Int => Int = { x => x + 1 }\n",
    "val increment = getIncrement\n",
    "increment(1)"
   ]
  },
  {
   "cell_type": "code",
   "execution_count": 116,
   "metadata": {},
   "outputs": [
    {
     "data": {
      "text/plain": [
       "\u001b[36mincrement\u001b[39m: \u001b[32mInt\u001b[39m => \u001b[32mInt\u001b[39m = ammonite.$sess.cmd114$Helper$$Lambda$3388/1981021742@725544f3"
      ]
     },
     "execution_count": 116,
     "metadata": {},
     "output_type": "execute_result"
    }
   ],
   "source": []
  },
  {
   "cell_type": "code",
   "execution_count": 117,
   "metadata": {},
   "outputs": [
    {
     "data": {
      "text/plain": [
       "\u001b[36mres116\u001b[39m: \u001b[32mInt\u001b[39m = \u001b[32m2\u001b[39m"
      ]
     },
     "execution_count": 117,
     "metadata": {},
     "output_type": "execute_result"
    }
   ],
   "source": []
  },
  {
   "cell_type": "code",
   "execution_count": 119,
   "metadata": {},
   "outputs": [
    {
     "name": "stdout",
     "output_type": "stream",
     "text": [
      "0\n",
      "1\n",
      "2\n",
      "3\n",
      "4\n"
     ]
    },
    {
     "data": {
      "text/html": [
       "<div class=\"jp-RenderedText\">\n",
       "<pre><code><span style=\"color: rgb(0, 187, 187)\"><span class=\"ansi-cyan-fg\">x</span></span>: <span style=\"color: rgb(0, 187, 0)\"><span class=\"ansi-green-fg\">Int</span></span> = <span style=\"color: rgb(0, 187, 0)\"><span class=\"ansi-green-fg\">5</span></span></code></pre>\n",
       "</div>"
      ],
      "text/plain": [
       "\u001b[36mx\u001b[39m: \u001b[32mInt\u001b[39m = \u001b[32m5\u001b[39m"
      ]
     },
     "metadata": {},
     "output_type": "display_data"
    }
   ],
   "source": [
    "var x = 0\n",
    "while (x < 5) { \n",
    "    println(x)\n",
    "    x = x + 1\n",
    "}"
   ]
  },
  {
   "cell_type": "code",
   "execution_count": null,
   "metadata": {},
   "outputs": [],
   "source": []
  }
 ],
 "metadata": {
  "kernelspec": {
   "display_name": "Scala 2.12",
   "language": "scala",
   "name": "scala212"
  },
  "language_info": {
   "codemirror_mode": "text/x-scala",
   "file_extension": ".scala",
   "mimetype": "text/x-scala",
   "name": "scala",
   "nbconvert_exporter": "script",
   "version": "2.12.10"
  }
 },
 "nbformat": 4,
 "nbformat_minor": 4
}
